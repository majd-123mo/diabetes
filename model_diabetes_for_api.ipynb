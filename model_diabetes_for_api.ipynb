{
  "nbformat": 4,
  "nbformat_minor": 0,
  "metadata": {
    "colab": {
      "name": "model diabetes for api.ipynb",
      "provenance": []
    },
    "kernelspec": {
      "name": "python3",
      "display_name": "Python 3"
    },
    "language_info": {
      "name": "python"
    }
  },
  "cells": [
    {
      "cell_type": "code",
      "metadata": {
        "id": "EWtBCOzi1JMV"
      },
      "source": [
        "## خاصة باسعار البيوت\n",
        "import pandas as pd\n",
        "import matplotlib.pyplot as plt\n",
        "import seaborn as sns\n",
        "import numpy as np\n",
        "from scipy.stats import norm\n",
        "from sklearn.preprocessing import StandardScaler\n",
        "from scipy import stats\n",
        "import warnings\n",
        "warnings.filterwarnings('ignore')\n",
        "%matplotlib inline"
      ],
      "execution_count": 1,
      "outputs": []
    },
    {
      "cell_type": "code",
      "metadata": {
        "id": "HbUqzkyv8R09"
      },
      "source": [
        "import pandas as pd  \n",
        "from sklearn.neural_network import MLPClassifier #شبكة عصبية للتصنيف \n",
        "import seaborn as sns\n",
        "import matplotlib.pyplot as plt\n",
        "from sklearn.model_selection import train_test_split # لتقسيم البيانات\n",
        "from sklearn.metrics import accuracy_score ,confusion_matrix #محددات TP+TN+FP+FN\n",
        "from sklearn.preprocessing import StandardScaler #تدريج البيانات بين الناقص واحد وزائد واحد\n",
        "from sklearn.preprocessing import PolynomialFeatures#زيادة عدد الفيتشرز "
      ],
      "execution_count": 2,
      "outputs": []
    },
    {
      "cell_type": "code",
      "metadata": {
        "id": "4ytOU82K8UJM"
      },
      "source": [
        "## خاصة بالتايتنك \n",
        "# data analysis and wrangling\n",
        "import pandas as pd\n",
        "import numpy as np\n",
        "import random as rnd\n",
        "\n",
        "# visualization\n",
        "import seaborn as sns\n",
        "import matplotlib.pyplot as plt\n",
        "%matplotlib inline\n",
        "\n",
        "# machine learning\n",
        "from sklearn.linear_model import LogisticRegression\n",
        "from sklearn.svm import SVC, LinearSVC\n",
        "from sklearn.ensemble import RandomForestClassifier\n",
        "from sklearn.neighbors import KNeighborsClassifier\n",
        "from sklearn.naive_bayes import GaussianNB\n",
        "from sklearn.linear_model import Perceptron\n",
        "from sklearn.linear_model import SGDClassifier\n",
        "from sklearn.tree import DecisionTreeClassifier"
      ],
      "execution_count": 3,
      "outputs": []
    },
    {
      "cell_type": "code",
      "metadata": {
        "id": "TmiST92B9bRJ"
      },
      "source": [
        "diabetes = pd.read_csv('diabetes.csv')\n"
      ],
      "execution_count": 4,
      "outputs": []
    },
    {
      "cell_type": "code",
      "metadata": {
        "colab": {
          "base_uri": "https://localhost:8080/"
        },
        "id": "rRFOYqZX9oCH",
        "outputId": "e58719d6-e5b4-4022-be98-0e70afa10098"
      },
      "source": [
        "diabetes_data_copy = diabetes.copy(deep = True)\n",
        "diabetes_data_copy[['Glucose','BloodPressure','SkinThickness','Insulin','BMI']] = diabetes_data_copy[['Glucose','BloodPressure','SkinThickness','Insulin','BMI']].replace(0,np.NaN)\n",
        "\n",
        "## showing the count of Nans\n",
        "print(diabetes_data_copy.isnull().sum())"
      ],
      "execution_count": 5,
      "outputs": [
        {
          "output_type": "stream",
          "text": [
            "Pregnancies                   0\n",
            "Glucose                       5\n",
            "BloodPressure                35\n",
            "SkinThickness               227\n",
            "Insulin                     374\n",
            "BMI                          11\n",
            "DiabetesPedigreeFunction      0\n",
            "Age                           0\n",
            "Outcome                       0\n",
            "dtype: int64\n"
          ],
          "name": "stdout"
        }
      ]
    },
    {
      "cell_type": "code",
      "metadata": {
        "id": "aoEWIKHE91zi"
      },
      "source": [
        "diabetes_data_copy['Glucose'].fillna(diabetes_data_copy['Glucose'].mean(), inplace = True)\n",
        "diabetes_data_copy['BloodPressure'].fillna(diabetes_data_copy['BloodPressure'].mean(), inplace = True)\n",
        "diabetes_data_copy['SkinThickness'].fillna(diabetes_data_copy['SkinThickness'].median(), inplace = True)\n",
        "diabetes_data_copy['Insulin'].fillna(diabetes_data_copy['Insulin'].median(), inplace = True)\n",
        "diabetes_data_copy['BMI'].fillna(diabetes_data_copy['BMI'].median(), inplace = True)"
      ],
      "execution_count": 6,
      "outputs": []
    },
    {
      "cell_type": "code",
      "metadata": {
        "id": "ephMhszh-CGP"
      },
      "source": [
        "X = diabetes_data_copy.iloc[:,:-1] \n",
        "y = diabetes_data_copy.iloc[:, -1]"
      ],
      "execution_count": 8,
      "outputs": []
    },
    {
      "cell_type": "code",
      "metadata": {
        "colab": {
          "base_uri": "https://localhost:8080/"
        },
        "id": "WNfh_Oc_-G4u",
        "outputId": "5e651390-eb5c-4d28-855d-dec6f3e08be1"
      },
      "source": [
        "X.columns"
      ],
      "execution_count": 9,
      "outputs": [
        {
          "output_type": "execute_result",
          "data": {
            "text/plain": [
              "Index(['Pregnancies', 'Glucose', 'BloodPressure', 'SkinThickness', 'Insulin',\n",
              "       'BMI', 'DiabetesPedigreeFunction', 'Age'],\n",
              "      dtype='object')"
            ]
          },
          "metadata": {
            "tags": []
          },
          "execution_count": 9
        }
      ]
    },
    {
      "cell_type": "code",
      "metadata": {
        "colab": {
          "base_uri": "https://localhost:8080/"
        },
        "id": "1wfRzGsC-OrG",
        "outputId": "8074149d-af9a-43b7-b5bd-ac8d9b1d1cb2"
      },
      "source": [
        "y"
      ],
      "execution_count": 10,
      "outputs": [
        {
          "output_type": "execute_result",
          "data": {
            "text/plain": [
              "0      1\n",
              "1      0\n",
              "2      1\n",
              "3      0\n",
              "4      1\n",
              "      ..\n",
              "763    0\n",
              "764    0\n",
              "765    0\n",
              "766    1\n",
              "767    0\n",
              "Name: Outcome, Length: 768, dtype: int64"
            ]
          },
          "metadata": {
            "tags": []
          },
          "execution_count": 10
        }
      ]
    },
    {
      "cell_type": "code",
      "metadata": {
        "colab": {
          "base_uri": "https://localhost:8080/"
        },
        "id": "E_ALn2qn-S2P",
        "outputId": "d3d67018-1cb0-4ca2-8c41-9bd97e58be7d"
      },
      "source": [
        "scaler = StandardScaler(copy=True, with_mean=True, with_std=True)\n",
        "X_NEW = scaler.fit_transform(X)\n",
        "print('X \\n' , X_NEW[:10])\n",
        "print('y \\n' , y[:10])"
      ],
      "execution_count": 11,
      "outputs": [
        {
          "output_type": "stream",
          "text": [
            "X \n",
            " [[ 6.39947260e-01  8.65108070e-01 -3.35182392e-02  6.70642532e-01\n",
            "  -1.81541243e-01  1.66619381e-01  4.68491977e-01  1.42599540e+00]\n",
            " [-8.44885053e-01 -1.20616153e+00 -5.29859033e-01 -1.23012884e-02\n",
            "  -1.81541243e-01 -8.52199761e-01 -3.65060778e-01 -1.90671905e-01]\n",
            " [ 1.23388019e+00  2.01581340e+00 -6.95305964e-01 -1.23012884e-02\n",
            "  -1.81541243e-01 -1.33250021e+00  6.04397318e-01 -1.05584152e-01]\n",
            " [-8.44885053e-01 -1.07465235e+00 -5.29859033e-01 -6.95245109e-01\n",
            "  -5.40641767e-01 -6.33881374e-01 -9.20762614e-01 -1.04154944e+00]\n",
            " [-1.14185152e+00  5.03457822e-01 -2.68066914e+00  6.70642532e-01\n",
            "   3.16565936e-01  1.54930250e+00  5.48490910e+00 -2.04963989e-02]\n",
            " [ 3.42980797e-01 -1.86965379e-01  1.31928692e-01 -1.23012884e-02\n",
            "  -1.81541243e-01 -9.97745353e-01 -8.18078579e-01 -2.75759658e-01]\n",
            " [-2.50952128e-01 -1.43630260e+00 -1.85343448e+00  3.29170622e-01\n",
            "  -6.10145094e-01 -2.11799158e-01 -6.76133001e-01 -6.16110671e-01]\n",
            " [ 1.82781311e+00 -2.19842674e-01  1.17557115e-15 -1.23012884e-02\n",
            "  -1.81541243e-01  4.14046886e-01 -1.02042653e+00 -3.60847411e-01]\n",
            " [-5.47918591e-01  2.47609554e+00 -1.98965170e-01  1.80888223e+00\n",
            "   4.66052389e+00 -2.84571954e-01 -9.47943682e-01  1.68125866e+00]\n",
            " [ 1.23388019e+00  1.08930278e-01  1.95184494e+00 -1.23012884e-02\n",
            "  -1.81541243e-01 -2.25898887e-02 -7.24454900e-01  1.76634642e+00]]\n",
            "y \n",
            " 0    1\n",
            "1    0\n",
            "2    1\n",
            "3    0\n",
            "4    1\n",
            "5    0\n",
            "6    1\n",
            "7    0\n",
            "8    1\n",
            "9    1\n",
            "Name: Outcome, dtype: int64\n"
          ],
          "name": "stdout"
        }
      ]
    },
    {
      "cell_type": "code",
      "metadata": {
        "colab": {
          "base_uri": "https://localhost:8080/"
        },
        "id": "xK0kXlWy-V76",
        "outputId": "b976fd1e-05bf-44f0-91f5-f49b853aa8f3"
      },
      "source": [
        "X_train, X_test, y_train, y_test = train_test_split(X_NEW, y, test_size=0.2, random_state=44, shuffle =True)\n",
        "print(X_train.shape)\n",
        "print(X_test.shape)\n",
        "print(y_train.shape)\n",
        "print(y_test.shape)"
      ],
      "execution_count": 12,
      "outputs": [
        {
          "output_type": "stream",
          "text": [
            "(614, 8)\n",
            "(154, 8)\n",
            "(614,)\n",
            "(154,)\n"
          ],
          "name": "stdout"
        }
      ]
    },
    {
      "cell_type": "code",
      "metadata": {
        "colab": {
          "base_uri": "https://localhost:8080/"
        },
        "id": "TYBbwlRd-bNd",
        "outputId": "7c5ea5b1-39a9-4424-cba8-e0314c7b0d22"
      },
      "source": [
        "# Random Forest\n",
        "\n",
        "random_forest = RandomForestClassifier(n_estimators=100)\n",
        "random_forest.fit(X_train, y_train)\n",
        "y_pred = random_forest.predict(X_test)\n",
        "random_forest.score(X_train, y_train)\n",
        "acc_random_forest = round(random_forest.score(X_train, y_train) * 100, 2)\n",
        "acc_random_forest"
      ],
      "execution_count": 13,
      "outputs": [
        {
          "output_type": "execute_result",
          "data": {
            "text/plain": [
              "100.0"
            ]
          },
          "metadata": {
            "tags": []
          },
          "execution_count": 13
        }
      ]
    },
    {
      "cell_type": "code",
      "metadata": {
        "id": "CJSOwzQw-lyK"
      },
      "source": [
        "submission = pd.DataFrame({\"y_test\":y_test,\"y_pred\": y_pred})\n",
        "submission.to_csv('submission.csv', index=False)"
      ],
      "execution_count": 14,
      "outputs": []
    },
    {
      "cell_type": "code",
      "metadata": {
        "colab": {
          "base_uri": "https://localhost:8080/"
        },
        "id": "iLUnk0Jq_39w",
        "outputId": "f56ca380-f957-4ffd-aa28-ed41af1d8ee5"
      },
      "source": [
        "from sklearn.externals import joblib\n",
        "joblib.dump(random_forest, 'model.pkl')\n",
        "print(\"Model dumped!\")\n"
      ],
      "execution_count": 16,
      "outputs": [
        {
          "output_type": "stream",
          "text": [
            "Model dumped!\n"
          ],
          "name": "stdout"
        }
      ]
    },
    {
      "cell_type": "code",
      "metadata": {
        "id": "C5ZC33u9AO7L"
      },
      "source": [
        "# Load the model that you just saved\n",
        "random_forest = joblib.load('model.pkl')\n",
        "\n"
      ],
      "execution_count": 18,
      "outputs": []
    },
    {
      "cell_type": "code",
      "metadata": {
        "colab": {
          "base_uri": "https://localhost:8080/"
        },
        "id": "qtIEdGM2Aee0",
        "outputId": "e30c169c-d53e-42af-fdcc-0094239d0f4f"
      },
      "source": [
        "# Saving the data columns from training\n",
        "model_columns = list(X.columns)\n",
        "joblib.dump(model_columns, 'model_columns.pkl')\n",
        "print(\"Models columns dumped!\")"
      ],
      "execution_count": 19,
      "outputs": [
        {
          "output_type": "stream",
          "text": [
            "Models columns dumped!\n"
          ],
          "name": "stdout"
        }
      ]
    },
    {
      "cell_type": "code",
      "metadata": {
        "id": "WYyAjcUYAy_K"
      },
      "source": [
        ""
      ],
      "execution_count": null,
      "outputs": []
    }
  ]
}